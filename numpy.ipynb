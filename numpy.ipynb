{
  "nbformat": 4,
  "nbformat_minor": 0,
  "metadata": {
    "colab": {
      "name": "numpy.ipynb",
      "provenance": [],
      "collapsed_sections": [],
      "authorship_tag": "ABX9TyOzGUyVV7jIx3qBPak41MCK",
      "include_colab_link": true
    },
    "kernelspec": {
      "name": "python3",
      "display_name": "Python 3"
    },
    "language_info": {
      "name": "python"
    }
  },
  "cells": [
    {
      "cell_type": "markdown",
      "metadata": {
        "id": "view-in-github",
        "colab_type": "text"
      },
      "source": [
        "<a href=\"https://colab.research.google.com/github/rheona2000/python-numpy/blob/main/numpy.ipynb\" target=\"_parent\"><img src=\"https://colab.research.google.com/assets/colab-badge.svg\" alt=\"Open In Colab\"/></a>"
      ]
    },
    {
      "cell_type": "code",
      "metadata": {
        "colab": {
          "base_uri": "https://localhost:8080/"
        },
        "id": "UbLm4L-vv4NC",
        "outputId": "8f718981-6709-4496-e942-6bf2a169f2ac"
      },
      "source": [
        "array1= np.array([10,20,30])\n",
        "print(array1)\n",
        "\n",
        "array2=np.array([2,3,'r',\"rheona\"])\n",
        "print(array2)"
      ],
      "execution_count": null,
      "outputs": [
        {
          "output_type": "stream",
          "text": [
            "[10 20 30]\n",
            "['2' '3' 'r' 'rheona']\n"
          ],
          "name": "stdout"
        }
      ]
    },
    {
      "cell_type": "code",
      "metadata": {
        "id": "fqaKS-DE7AUI"
      },
      "source": [
        ""
      ],
      "execution_count": null,
      "outputs": []
    },
    {
      "cell_type": "code",
      "metadata": {
        "colab": {
          "base_uri": "https://localhost:8080/"
        },
        "id": "AqGPmwwhzDy_",
        "outputId": "5c4da805-fd42-4f20-eec7-0d362d4fc0a6"
      },
      "source": [
        "temp =np.array([5,6,7,8,\"rio\"],dtype=str)\n",
        "print(temp)"
      ],
      "execution_count": null,
      "outputs": [
        {
          "output_type": "stream",
          "text": [
            "['5' '6' '7' '8' 'rio']\n"
          ],
          "name": "stdout"
        }
      ]
    },
    {
      "cell_type": "code",
      "metadata": {
        "colab": {
          "base_uri": "https://localhost:8080/"
        },
        "id": "NbApkZjqzo1x",
        "outputId": "cbbc77b4-21e1-481e-e35a-2c87a2b75cf5"
      },
      "source": [
        "array3 = np.array([[2,3,4],[7,5,6],[7,8,9]])\n",
        "print(array3)"
      ],
      "execution_count": null,
      "outputs": [
        {
          "output_type": "stream",
          "text": [
            "[[2 3 4]\n",
            " [7 5 6]\n",
            " [7 8 9]]\n"
          ],
          "name": "stdout"
        }
      ]
    },
    {
      "cell_type": "code",
      "metadata": {
        "colab": {
          "base_uri": "https://localhost:8080/"
        },
        "id": "-b62wvup0-Aa",
        "outputId": "b35a7e9c-b5c7-4739-a523-75e733bf0a11"
      },
      "source": [
        "array3.ndim"
      ],
      "execution_count": null,
      "outputs": [
        {
          "output_type": "execute_result",
          "data": {
            "text/plain": [
              "2"
            ]
          },
          "metadata": {
            "tags": []
          },
          "execution_count": 19
        }
      ]
    },
    {
      "cell_type": "code",
      "metadata": {
        "colab": {
          "base_uri": "https://localhost:8080/"
        },
        "id": "qE1EdLXk1lTp",
        "outputId": "dec167d1-17fd-4ab9-cf4c-26590efb206a"
      },
      "source": [
        "array1.shape"
      ],
      "execution_count": null,
      "outputs": [
        {
          "output_type": "execute_result",
          "data": {
            "text/plain": [
              "(3,)"
            ]
          },
          "metadata": {
            "tags": []
          },
          "execution_count": 20
        }
      ]
    },
    {
      "cell_type": "code",
      "metadata": {
        "colab": {
          "base_uri": "https://localhost:8080/"
        },
        "id": "KhRHdKpa1oqB",
        "outputId": "a7009ad7-5757-4768-d60e-3658b5778c2d"
      },
      "source": [
        "array3.shape"
      ],
      "execution_count": null,
      "outputs": [
        {
          "output_type": "execute_result",
          "data": {
            "text/plain": [
              "(3, 3)"
            ]
          },
          "metadata": {
            "tags": []
          },
          "execution_count": 21
        }
      ]
    },
    {
      "cell_type": "code",
      "metadata": {
        "colab": {
          "base_uri": "https://localhost:8080/"
        },
        "id": "f5gGenZY2JNm",
        "outputId": "ec8c26d1-7d8c-4ba8-dbb9-3b27e6553b17"
      },
      "source": [
        "print(array1.size)"
      ],
      "execution_count": null,
      "outputs": [
        {
          "output_type": "stream",
          "text": [
            "3\n"
          ],
          "name": "stdout"
        }
      ]
    },
    {
      "cell_type": "code",
      "metadata": {
        "colab": {
          "base_uri": "https://localhost:8080/"
        },
        "id": "kskWswbv2lpF",
        "outputId": "60ec8976-429c-406a-d02f-31fdbe8e7e2c"
      },
      "source": [
        "print(array1.dtype)"
      ],
      "execution_count": null,
      "outputs": [
        {
          "output_type": "stream",
          "text": [
            "int64\n"
          ],
          "name": "stdout"
        }
      ]
    },
    {
      "cell_type": "code",
      "metadata": {
        "colab": {
          "base_uri": "https://localhost:8080/"
        },
        "id": "y0ITBrs424J5",
        "outputId": "c8cdc020-bc1e-47bf-f952-89a0afc6e607"
      },
      "source": [
        "print(array1.itemsize)"
      ],
      "execution_count": null,
      "outputs": [
        {
          "output_type": "stream",
          "text": [
            "8\n"
          ],
          "name": "stdout"
        }
      ]
    },
    {
      "cell_type": "code",
      "metadata": {
        "colab": {
          "base_uri": "https://localhost:8080/"
        },
        "id": "IR9WBozv3_rb",
        "outputId": "8cd3a733-6857-4f13-f45a-5e22d78f9a14"
      },
      "source": [
        "array5=np.ones((3,4))\n",
        "print(array5)"
      ],
      "execution_count": null,
      "outputs": [
        {
          "output_type": "stream",
          "text": [
            "[[1. 1. 1. 1.]\n",
            " [1. 1. 1. 1.]\n",
            " [1. 1. 1. 1.]]\n"
          ],
          "name": "stdout"
        }
      ]
    },
    {
      "cell_type": "code",
      "metadata": {
        "colab": {
          "base_uri": "https://localhost:8080/"
        },
        "id": "cxz4rZ895DJc",
        "outputId": "d5198421-14bb-4b44-ea08-c308711e0102"
      },
      "source": [
        "array6=np.arange(10)\n",
        "print(array6)"
      ],
      "execution_count": null,
      "outputs": [
        {
          "output_type": "stream",
          "text": [
            "[0 1 2 3 4 5 6 7 8 9]\n"
          ],
          "name": "stdout"
        }
      ]
    },
    {
      "cell_type": "code",
      "metadata": {
        "colab": {
          "base_uri": "https://localhost:8080/"
        },
        "id": "sUGYMnO05kQV",
        "outputId": "a90ce018-9baf-4cdd-f40e-643447bcd1b2"
      },
      "source": [
        "import numpy as np\n",
        "array7=np.arange(-2,24,4)\n",
        "print(array7)\n",
        "print(array7[1])"
      ],
      "execution_count": null,
      "outputs": [
        {
          "output_type": "stream",
          "text": [
            "[-2  2  6 10 14 18 22]\n",
            "2\n"
          ],
          "name": "stdout"
        }
      ]
    },
    {
      "cell_type": "code",
      "metadata": {
        "id": "FsQiUrsuy1yd",
        "colab": {
          "base_uri": "https://localhost:8080/"
        },
        "outputId": "9ec183af-f9f1-43a2-dfec-ce0bd06fd51c"
      },
      "source": [
        "print(array7[2])"
      ],
      "execution_count": null,
      "outputs": [
        {
          "output_type": "stream",
          "text": [
            "6\n"
          ],
          "name": "stdout"
        }
      ]
    },
    {
      "cell_type": "code",
      "metadata": {
        "colab": {
          "base_uri": "https://localhost:8080/"
        },
        "id": "Qe87baoqEZot",
        "outputId": "0718ae1f-9bc2-4124-a348-d0ae38bc04fb"
      },
      "source": [
        "print(array3)\n",
        "print(array3[2,2])"
      ],
      "execution_count": null,
      "outputs": [
        {
          "output_type": "stream",
          "text": [
            "[[2 3 4]\n",
            " [7 5 6]\n",
            " [7 8 9]]\n",
            "9\n"
          ],
          "name": "stdout"
        }
      ]
    },
    {
      "cell_type": "code",
      "metadata": {
        "colab": {
          "base_uri": "https://localhost:8080/"
        },
        "id": "UFKKs0WLNnpq",
        "outputId": "c5570a49-d37d-41b0-ea8a-f0a5d3b934c3"
      },
      "source": [
        "array8=np.array([[1,2,3,4],[5,6,7,8],[9,10,11,12,]])\n",
        "print(array8)\n",
        "print(array8[0:3,2])"
      ],
      "execution_count": null,
      "outputs": [
        {
          "output_type": "stream",
          "text": [
            "[[ 1  2  3  4]\n",
            " [ 5  6  7  8]\n",
            " [ 9 10 11 12]]\n",
            "[ 3  7 11]\n"
          ],
          "name": "stdout"
        }
      ]
    },
    {
      "cell_type": "code",
      "metadata": {
        "colab": {
          "base_uri": "https://localhost:8080/"
        },
        "id": "ocdDSfez7E04",
        "outputId": "2cefee38-5849-4185-b146-dc9e1cafeb63"
      },
      "source": [
        "import numpy as np\n",
        "\n",
        "a1=np.array([1,2,3,4,5])\n",
        "print(a1.flags)"
      ],
      "execution_count": null,
      "outputs": [
        {
          "output_type": "stream",
          "text": [
            "  C_CONTIGUOUS : True\n",
            "  F_CONTIGUOUS : True\n",
            "  OWNDATA : True\n",
            "  WRITEABLE : True\n",
            "  ALIGNED : True\n",
            "  WRITEBACKIFCOPY : False\n",
            "  UPDATEIFCOPY : False\n",
            "\n"
          ],
          "name": "stdout"
        }
      ]
    },
    {
      "cell_type": "code",
      "metadata": {
        "colab": {
          "base_uri": "https://localhost:8080/"
        },
        "id": "HBRnafsJ8HmX",
        "outputId": "c929e66a-514e-4abb-f618-e83a59b505a4"
      },
      "source": [
        "x=np.empty([3,2], dtype=int)\n",
        "print(x)"
      ],
      "execution_count": null,
      "outputs": [
        {
          "output_type": "stream",
          "text": [
            "[[94219356266784              0]\n",
            " [             0              0]\n",
            " [             0              0]]\n"
          ],
          "name": "stdout"
        }
      ]
    },
    {
      "cell_type": "code",
      "metadata": {
        "colab": {
          "base_uri": "https://localhost:8080/"
        },
        "id": "njSn-ErH9tSS",
        "outputId": "edd731db-b215-44d9-bda8-345c065fdc08"
      },
      "source": [
        "x=np.linspace(10,20,5)\n",
        "print(x)"
      ],
      "execution_count": null,
      "outputs": [
        {
          "output_type": "stream",
          "text": [
            "[10.  12.5 15.  17.5 20. ]\n"
          ],
          "name": "stdout"
        }
      ]
    },
    {
      "cell_type": "code",
      "metadata": {
        "colab": {
          "base_uri": "https://localhost:8080/"
        },
        "id": "23d6kg5l_PYu",
        "outputId": "7c737c49-4604-4b7e-9cc8-58980fae46fa"
      },
      "source": [
        "a=np.logspace(1,10,num=10,base=2)\n",
        "print(a)"
      ],
      "execution_count": null,
      "outputs": [
        {
          "output_type": "stream",
          "text": [
            "[   2.    4.    8.   16.   32.   64.  128.  256.  512. 1024.]\n"
          ],
          "name": "stdout"
        }
      ]
    },
    {
      "cell_type": "code",
      "metadata": {
        "colab": {
          "base_uri": "https://localhost:8080/"
        },
        "id": "Yf61y843_irs",
        "outputId": "004c80d8-2b9b-49c0-c8fc-9ad5c7c166c5"
      },
      "source": [
        "x=np.array([[1,2],[3,4],[5,6]])\n",
        "p=x[[0,1,2],[0,1,0]]\n",
        "print(p)"
      ],
      "execution_count": null,
      "outputs": [
        {
          "output_type": "stream",
          "text": [
            "[1 4 5]\n"
          ],
          "name": "stdout"
        }
      ]
    },
    {
      "cell_type": "code",
      "metadata": {
        "colab": {
          "base_uri": "https://localhost:8080/"
        },
        "id": "VIO-SR3wA-MZ",
        "outputId": "c1a7dc1a-c7ac-4a02-fe21-0db80b597b65"
      },
      "source": [
        "x=np.array([[0,1,2],[3,4,5],[6,7,8],[9,10,11]])\n",
        "rows=np.array([[0,0],[3,3]])\n",
        "cols=np.array([[0,2],[0,2]])\n",
        "y=x[rows,cols]\n",
        "print(y)"
      ],
      "execution_count": null,
      "outputs": [
        {
          "output_type": "stream",
          "text": [
            "[[ 0  2]\n",
            " [ 9 11]]\n"
          ],
          "name": "stdout"
        }
      ]
    },
    {
      "cell_type": "markdown",
      "metadata": {
        "id": "gna-paO4HDU6"
      },
      "source": [
        "flat"
      ]
    },
    {
      "cell_type": "code",
      "metadata": {
        "colab": {
          "base_uri": "https://localhost:8080/"
        },
        "id": "GigHHDyVHH9U",
        "outputId": "2f0fe8f2-37de-47dc-eb03-4bd438ae5a55"
      },
      "source": [
        "import numpy as np\n",
        "a=np.arange(10).reshape(2,5)\n",
        "print(a.flat[1])"
      ],
      "execution_count": null,
      "outputs": [
        {
          "output_type": "stream",
          "text": [
            "1\n"
          ],
          "name": "stdout"
        }
      ]
    },
    {
      "cell_type": "markdown",
      "metadata": {
        "id": "H73SJ48PIarR"
      },
      "source": [
        "swapaxes"
      ]
    },
    {
      "cell_type": "code",
      "metadata": {
        "colab": {
          "base_uri": "https://localhost:8080/"
        },
        "id": "QHdbv2EzIZjM",
        "outputId": "c4ef4aa7-6e0e-4807-cfb0-824fe4a361da"
      },
      "source": [
        "a=np.arange(8).reshape(2,4)\n",
        "print(a)\n",
        "print(a.swapaxes(1,0))"
      ],
      "execution_count": null,
      "outputs": [
        {
          "output_type": "stream",
          "text": [
            "[[0 1 2 3]\n",
            " [4 5 6 7]]\n",
            "[[0 4]\n",
            " [1 5]\n",
            " [2 6]\n",
            " [3 7]]\n"
          ],
          "name": "stdout"
        }
      ]
    },
    {
      "cell_type": "markdown",
      "metadata": {
        "id": "kBFUplunIvLn"
      },
      "source": [
        "flatten"
      ]
    },
    {
      "cell_type": "code",
      "metadata": {
        "colab": {
          "base_uri": "https://localhost:8080/"
        },
        "id": "kl_T1GI3ItlL",
        "outputId": "c618a6df-7fc4-4c2f-b6eb-7af2cf58cf01"
      },
      "source": [
        "import numpy as np\n",
        "a=np.arange(10).reshape(2,5)\n",
        "print(a)\n",
        "print(a.flatten())"
      ],
      "execution_count": null,
      "outputs": [
        {
          "output_type": "stream",
          "text": [
            "[[0 1 2 3 4]\n",
            " [5 6 7 8 9]]\n",
            "[0 1 2 3 4 5 6 7 8 9]\n"
          ],
          "name": "stdout"
        }
      ]
    },
    {
      "cell_type": "markdown",
      "metadata": {
        "id": "1Ufu5QxaJHYs"
      },
      "source": [
        "ravel"
      ]
    },
    {
      "cell_type": "code",
      "metadata": {
        "colab": {
          "base_uri": "https://localhost:8080/"
        },
        "id": "0a9LYUjgJGB9",
        "outputId": "bc605b65-4737-4339-ab13-1ec6baeaa9e5"
      },
      "source": [
        "import numpy as np\n",
        "a=np.arange(10).reshape(2,5)\n",
        "print(a)\n",
        "print(a.ravel())"
      ],
      "execution_count": null,
      "outputs": [
        {
          "output_type": "stream",
          "text": [
            "[[0 1 2 3 4]\n",
            " [5 6 7 8 9]]\n",
            "[0 1 2 3 4 5 6 7 8 9]\n"
          ],
          "name": "stdout"
        }
      ]
    },
    {
      "cell_type": "markdown",
      "metadata": {
        "id": "-VHnkIMiJS47"
      },
      "source": [
        "Broadcast"
      ]
    },
    {
      "cell_type": "code",
      "metadata": {
        "colab": {
          "base_uri": "https://localhost:8080/"
        },
        "id": "b8HmM97uJTg7",
        "outputId": "e9453454-e41b-4da1-cd94-f790b282ef01"
      },
      "source": [
        "a=np.arange(4).reshape(1,4)\n",
        "print(a)\n",
        "print(\"\\n\")\n",
        "print(np.broadcast_to(a,(4,4)))"
      ],
      "execution_count": null,
      "outputs": [
        {
          "output_type": "stream",
          "text": [
            "[[0 1 2 3]]\n",
            "\n",
            "\n",
            "[[0 1 2 3]\n",
            " [0 1 2 3]\n",
            " [0 1 2 3]\n",
            " [0 1 2 3]]\n"
          ],
          "name": "stdout"
        }
      ]
    },
    {
      "cell_type": "markdown",
      "metadata": {
        "id": "5mMq97EGJt0O"
      },
      "source": [
        "Stack"
      ]
    },
    {
      "cell_type": "code",
      "metadata": {
        "colab": {
          "base_uri": "https://localhost:8080/"
        },
        "id": "al7iR2AgJx2R",
        "outputId": "c5e7451b-6472-43d7-e1da-47fe9b43f3ad"
      },
      "source": [
        "a=np.array([[1,2],[3,4]])\n",
        "b=np.array([[5,6],[7,8]])\n",
        "np.stack((a,b),1)"
      ],
      "execution_count": null,
      "outputs": [
        {
          "output_type": "execute_result",
          "data": {
            "text/plain": [
              "array([[[1, 2],\n",
              "        [5, 6]],\n",
              "\n",
              "       [[3, 4],\n",
              "        [7, 8]]])"
            ]
          },
          "metadata": {
            "tags": []
          },
          "execution_count": 28
        }
      ]
    },
    {
      "cell_type": "markdown",
      "metadata": {
        "id": "l75xpQubKt3i"
      },
      "source": [
        "split operation"
      ]
    },
    {
      "cell_type": "code",
      "metadata": {
        "colab": {
          "base_uri": "https://localhost:8080/"
        },
        "id": "UahvIS5eKs8x",
        "outputId": "58510f04-48ba-4df2-cfc3-b96a330ad52f"
      },
      "source": [
        "a=np.arange(16).reshape(4,4)\n",
        "print(a)\n",
        "b=np.split(a,4)\n",
        "print(b)"
      ],
      "execution_count": null,
      "outputs": [
        {
          "output_type": "stream",
          "text": [
            "[[ 0  1  2  3]\n",
            " [ 4  5  6  7]\n",
            " [ 8  9 10 11]\n",
            " [12 13 14 15]]\n",
            "[array([[0, 1, 2, 3]]), array([[4, 5, 6, 7]]), array([[ 8,  9, 10, 11]]), array([[12, 13, 14, 15]])]\n"
          ],
          "name": "stdout"
        }
      ]
    },
    {
      "cell_type": "markdown",
      "metadata": {
        "id": "2rvG0mz9MxK2"
      },
      "source": [
        "string Functions, bitwise Operators"
      ]
    }
  ]
}